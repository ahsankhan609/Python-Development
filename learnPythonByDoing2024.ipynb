{
 "cells": [
  {
   "cell_type": "markdown",
   "metadata": {},
   "source": [
    "# Learn Python By Doing 2024\n"
   ]
  },
  {
   "cell_type": "markdown",
   "metadata": {},
   "source": [
    "## Python Lists\n"
   ]
  },
  {
   "cell_type": "markdown",
   "metadata": {},
   "source": [
    "- Lists are used to `store multiple data type items` in `a single variable`\n",
    "- `Lists and Arrays` are `Same`. But there `are some differences`.\n",
    "- Arrays are homogeneous. Means, it `store same Data type` in it. Data `stores on the same memory location`. Arrays are `much faster` for computation becuase of data at same memory location.\n",
    "- But Lists are hetrogeniou. Means we `can store multiple Data types`. But in Lists `data` could be `stored on different memory locations`. But lists are `slower for computation`. Lists are more programmer friendly.\n",
    "- Lists are created using `square brackets` like `[]`\n",
    "- It allows Duplicate items with the same value.\n",
    "- [Python List Methods](https://www.w3schools.com/python/python_lists_methods.asp)\n"
   ]
  },
  {
   "cell_type": "code",
   "execution_count": 8,
   "metadata": {},
   "outputs": [
    {
     "name": "stdout",
     "output_type": "stream",
     "text": [
      "['apple', 'banana', 'cherry', 1, 2, 3, True, (4+5j)]\n"
     ]
    }
   ],
   "source": [
    "# Example of List with Mutiple data types\n",
    "thislist = [\"apple\", \"banana\", \"cherry\", 1, 2, 3, True, 4+5j]\n",
    "print(thislist)"
   ]
  },
  {
   "cell_type": "code",
   "execution_count": 7,
   "metadata": {},
   "outputs": [
    {
     "name": "stdout",
     "output_type": "stream",
     "text": [
      "[1, 2, 3, [4, 5, 6]]\n"
     ]
    }
   ],
   "source": [
    "# Another exmaple of 2d Hetrogenous List\n",
    "this_list = [1, 2, 3, [4, 5, 6]]\n",
    "print(this_list)"
   ]
  },
  {
   "cell_type": "code",
   "execution_count": 9,
   "metadata": {},
   "outputs": [
    {
     "name": "stdout",
     "output_type": "stream",
     "text": [
      "['apple', 'banana', 'cherry']\n"
     ]
    }
   ],
   "source": [
    "# The list() Constructor\n",
    "thislist = list((\"apple\", \"banana\", \"cherry\")) # note the double round-brackets\n",
    "print(thislist)"
   ]
  },
  {
   "cell_type": "code",
   "execution_count": 16,
   "metadata": {},
   "outputs": [
    {
     "name": "stdout",
     "output_type": "stream",
     "text": [
      "4\n",
      "4\n",
      "cherry\n"
     ]
    }
   ],
   "source": [
    "# Access List Items\n",
    "l3 = [1, 2, 3, [4, 5, 6]]\n",
    "\n",
    "# Example 1\n",
    "print(l3[3][0])\n",
    "\n",
    "#Example 2\n",
    "print(l3[-1][0])\n",
    "\n",
    "# Negative Indexing\n",
    "# Negative indexing means `start from the end`\n",
    "\n",
    "# `-1` refers to the last item, `-2` refers to the second last item etc.\n",
    "\n",
    "thislist = [\"apple\", \"banana\", \"cherry\"]\n",
    "print(thislist[-1])"
   ]
  },
  {
   "cell_type": "code",
   "execution_count": 18,
   "metadata": {},
   "outputs": [
    {
     "name": "stdout",
     "output_type": "stream",
     "text": [
      "['orange', 'kiwi', 'melon']\n"
     ]
    }
   ],
   "source": [
    "#Range of Negative Indexes\n",
    "\n",
    "#Specify negative indexes if you want to start the search from the end of the list:\n",
    "\n",
    "#This example returns the items from \"orange\" (-4) to, but NOT including \"mango\" (-1):\n",
    "\n",
    "thislist = [\"apple\", \"banana\", \"cherry\", \"orange\", \"kiwi\", \"melon\", \"mango\"]\n",
    "print(thislist[-4:-1])"
   ]
  },
  {
   "cell_type": "code",
   "execution_count": 24,
   "metadata": {},
   "outputs": [
    {
     "name": "stdout",
     "output_type": "stream",
     "text": [
      "[1, 2, 3, 4, 5]\n",
      "[1, 2, 3, 4, 5, 6, 7, 8]\n",
      "[1, 2, 3, 4, 5, 6, 7, 8, [9, 10]]\n",
      "[1, 2, 3, 4, 5, 6, 7, 8, [9, 10], 'i', 's', 'l', 'a', 'm']\n"
     ]
    }
   ],
   "source": [
    "# Append into List\n",
    "l = [1, 2, 3, 4]\n",
    "l.append(5)\n",
    "print(l)\n",
    "\n",
    "# Extend into List\n",
    "l.extend([6, 7, 8])\n",
    "print(l)\n",
    "\n",
    "# Difference Between Append and Extend is: Both add items at the end of List. Append just add 1 Item, but Extend add multiple Items.\n",
    "\n",
    "# So for example if we try to append multiple items, then it will add that item as 1\n",
    "l.append([9, 10])\n",
    "print(l) # so it add list as 1 item\n",
    "\n",
    "# So for example if we try to extend single item, then it will add it  as multiple items\n",
    "l.extend('islam')\n",
    "print(l)"
   ]
  },
  {
   "cell_type": "code",
   "execution_count": 26,
   "metadata": {},
   "outputs": [
    {
     "name": "stdout",
     "output_type": "stream",
     "text": [
      "['apple', 'watermelon', 'banana', 'cherry']\n"
     ]
    }
   ],
   "source": [
    "# Insert Items in List - To insert a new list item, without replacing any of the existing values, we can use the insert() method. The insert() method inserts an item at the specified index:\n",
    "thislist = [\"apple\", \"banana\", \"cherry\"]\n",
    "thislist.insert(1, \"watermelon\")\n",
    "print(thislist)"
   ]
  },
  {
   "cell_type": "code",
   "execution_count": 30,
   "metadata": {},
   "outputs": [
    {
     "name": "stdout",
     "output_type": "stream",
     "text": [
      "['apple', 'cherry']\n",
      "['apple', 'cherry', 'banana', 'kiwi']\n",
      "['apple', 'cherry']\n",
      "['apple', 'banana']\n"
     ]
    }
   ],
   "source": [
    "# Remove Specified Item from List - The remove() method removes the specified item.\n",
    "thislist = [\"apple\", \"banana\", \"cherry\"]\n",
    "thislist.remove(\"banana\")\n",
    "print(thislist)\n",
    "\n",
    "# If there are more than one item with the specified value, the remove() method removes the first occurance:\n",
    "thislist = [\"apple\", \"banana\", \"cherry\", \"banana\", \"kiwi\"]\n",
    "thislist.remove(\"banana\")\n",
    "print(thislist)\n",
    "\n",
    "# Remove Specified Item from List - The pop() method removes the specified index.\n",
    "thislist = [\"apple\", \"banana\", \"cherry\"]\n",
    "thislist.pop(1)\n",
    "print(thislist)\n",
    "\n",
    "# If you do not specify the index, the pop() method removes the last item.\n",
    "\n",
    "thislist = [\"apple\", \"banana\", \"cherry\"]\n",
    "thislist.pop()\n",
    "print(thislist)"
   ]
  }
 ],
 "metadata": {
  "kernelspec": {
   "display_name": ".venv",
   "language": "python",
   "name": "python3"
  },
  "language_info": {
   "codemirror_mode": {
    "name": "ipython",
    "version": 3
   },
   "file_extension": ".py",
   "mimetype": "text/x-python",
   "name": "python",
   "nbconvert_exporter": "python",
   "pygments_lexer": "ipython3",
   "version": "3.11.8"
  }
 },
 "nbformat": 4,
 "nbformat_minor": 2
}
